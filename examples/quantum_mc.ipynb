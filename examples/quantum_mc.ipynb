{
 "cells": [
  {
   "cell_type": "code",
   "execution_count": 1,
   "metadata": {},
   "outputs": [],
   "source": [
    "import sys\n",
    "sys.path.append(\"..\") # see os.getcwd()\n",
    "import time\n",
    "from quantum_mc.arithmetic.piecewise_linear_transform import PiecewiseLinearTransform3\n",
    "import numpy as np\n",
    "from qiskit.test.base import QiskitTestCase\n",
    "import quantum_mc.calibration.fitting as ft\n",
    "import quantum_mc.calibration.time_series as ts\n",
    "from scipy.stats import multivariate_normal, norm\n",
    "from qiskit.test.base import QiskitTestCase\n",
    "from qiskit import execute, Aer, QuantumCircuit, QuantumRegister, ClassicalRegister, AncillaRegister\n",
    "from qiskit.quantum_info import Statevector\n",
    "#from qiskit_finance.circuit.library import NormalDistribution\n",
    "from qiskit.circuit.library import NormalDistribution, LogNormalDistribution, IntegerComparator\n",
    "from qiskit.utils import QuantumInstance\n",
    "from qiskit.algorithms import IterativeAmplitudeEstimation, EstimationProblem\n",
    "import matplotlib.pyplot as plt\n",
    "\n",
    "cm = 1 / 2.54"
   ]
  },
  {
   "cell_type": "code",
   "execution_count": 2,
   "metadata": {},
   "outputs": [
    {
     "name": "stderr",
     "output_type": "stream",
     "text": [
      "C:\\Users\\joemo\\AppData\\Roaming\\Python\\Python37\\site-packages\\ipykernel_launcher.py:11: DeprecationWarning: `NormalDistribution` is deprecated as of version 0.17.0 and will be removed no earlier than 3 months after the release date. It moved to qiskit_finance.circuit.library.NormalDistribution.\n",
      "  # This is added back by InteractiveShellApp.init_path()\n"
     ]
    }
   ],
   "source": [
    "correl = ft.get_correl(\"AAPL\", \"MSFT\")\n",
    "nbits = 3\n",
    "\n",
    "bounds_std = 3.\n",
    "num_qubits = [nbits, nbits]        \n",
    "sigma = correl\n",
    "bounds = [(-bounds_std, bounds_std), (-bounds_std, bounds_std)] \n",
    "mu = [0, 0]\n",
    "\n",
    "# starting point is a multi-variate normal distribution\n",
    "normal = NormalDistribution(num_qubits, mu=mu, sigma=sigma, bounds=bounds)\n",
    "\n",
    "coeff_set = []\n",
    "xs = []\n",
    "ys = []\n",
    "pl_set = []\n",
    "for ticker in [\"MSFT\", \"AAPL\"]:\n",
    "    ((cdf_x, cdf_y), sigma) = ft.get_cdf_data(ticker)\n",
    "    (x, y) = ft.get_fit_data(ticker, norm_to_rel = False)\n",
    "    (pl, coeffs) = ft.fit_piecewise_linear(x, y)\n",
    "    # scale, to apply an arbitrary delta (we happen to use the same value here, but could be different)\n",
    "    coeffs = ft.scaled_coeffs(coeffs, 1.0 if ticker == \"MSFT\" else 1.0)\n",
    "    coeff_set.append(coeffs)\n",
    "    xs.append(x)\n",
    "    ys.append(y)\n",
    "\n",
    "# calculate the max and min P&Ls\n",
    "pl_set.append(lambda z : ft.piecewise_linear(z, *coeff_set[0]))\n",
    "pl_set.append(lambda z : ft.piecewise_linear(z, *coeff_set[1]))\n",
    "p_max = max(pl_set[0](bounds_std), pl_set[1](bounds_std))\n",
    "p_min = min(pl_set[0](-bounds_std), pl_set[1](-bounds_std))\n",
    "\n",
    "# we discretise the transforms and create the circuits\n",
    "transforms = []\n",
    "i_to_js = []\n",
    "i_to_xs = []\n",
    "j_to_ys = []\n",
    "for i, ticker in enumerate([\"MSFT\", \"AAPL\"]):\n",
    "    (i_0, i_1, a0, a1, a2, b0, b1, b2, i_to_j, i_to_x, j_to_y) = ft.integer_piecewise_linear_coeffs(coeff_set[i], x_min = -bounds_std, x_max = bounds_std, y_min = p_min, y_max = p_max, nbits_norm=nbits, nbits_extra = 1 if nbits == 2 else 2)\n",
    "    transforms.append(PiecewiseLinearTransform3(i_0, i_1, a0, a1, a2, b0, b1, b2, nbits = nbits))\n",
    "    i_to_js.append(np.vectorize(i_to_j))\n",
    "    i_to_xs.append(np.vectorize(i_to_x))\n",
    "    j_to_ys.append(np.vectorize(j_to_y))\n"
   ]
  },
  {
   "cell_type": "code",
   "execution_count": 131,
   "metadata": {},
   "outputs": [
    {
     "data": {
      "text/plain": [
       "(array(-5.9313367), array(4.30611818))"
      ]
     },
     "execution_count": 131,
     "metadata": {},
     "output_type": "execute_result"
    }
   ],
   "source": [
    "p_min, p_max"
   ]
  },
  {
   "cell_type": "code",
   "execution_count": 4,
   "metadata": {},
   "outputs": [
    {
     "name": "stderr",
     "output_type": "stream",
     "text": [
      "C:\\Users\\joemo\\AppData\\Roaming\\Python\\Python37\\site-packages\\ipykernel_launcher.py:13: MatplotlibDeprecationWarning: savefig() got unexpected keyword argument \"formt\" which is no longer supported as of 3.3 and will become an error two minor releases later\n",
      "  del sys.path[0]\n",
      "C:\\Users\\joemo\\AppData\\Roaming\\Python\\Python37\\site-packages\\ipykernel_launcher.py:21: MatplotlibDeprecationWarning: savefig() got unexpected keyword argument \"formt\" which is no longer supported as of 3.3 and will become an error two minor releases later\n"
     ]
    },
    {
     "data": {
      "image/png": "[encoded data removed]",
      "text/plain": [
       "<Figure size 226.772x170.079 with 1 Axes>"
      ]
     },
     "metadata": {},
     "output_type": "display_data"
    },
    {
     "data": {
      "image/png": "[encoded data removed]",
      "text/plain": [
       "<Figure size 226.772x170.079 with 1 Axes>"
      ]
     },
     "metadata": {},
     "output_type": "display_data"
    }
   ],
   "source": [
    "i = np.arange(0, 2**nbits)\n",
    "index = 0\n",
    "cm = 1 / 2.54\n",
    "fig = plt.figure(figsize=(8*cm,6*cm))  \n",
    "ax = fig.add_axes([0.2, 0.19, 0.77, 0.77])\n",
    "fig.set_facecolor('w')\n",
    "ax.plot(xs[index], ys[index], \"o\", markersize = 2, label = \"Observed\")\n",
    "ax.plot(xs[index], np.vectorize(pl_set[index])(xs[index]), label = \"Fitted\")\n",
    "ax.plot(i_to_xs[index](i), j_to_ys[index](i_to_js[index](i)), '--', label = \"Fitted, discretised\")\n",
    "ax.set_xlabel('Normal return ($\\sigma$)')\n",
    "ax.set_ylabel('Empirical return ($\\sigma$)')\n",
    "ax.legend()\n",
    "fig.savefig('piecewise_fit.pdf', formt='pdf', facecolor=fig.get_facecolor(), transparent=True)\n",
    "\n",
    "fig = plt.figure(figsize=(8*cm,6*cm))  \n",
    "ax = fig.add_axes([0.2, 0.19, 0.77, 0.77])\n",
    "fig.set_facecolor('w')\n",
    "ax.plot(i, i_to_js[index](i))\n",
    "ax.set_xlabel('Normal return integer')\n",
    "ax.set_ylabel('Empirical return integer')\n",
    "fig.savefig('piecewise_fit_ints.pdf', formt='pdf', facecolor=fig.get_facecolor(), transparent=True)"
   ]
  },
  {
   "cell_type": "code",
   "execution_count": 27,
   "metadata": {},
   "outputs": [
    {
     "name": "stderr",
     "output_type": "stream",
     "text": [
      "C:\\Users\\joemo\\AppData\\Roaming\\Python\\Python37\\site-packages\\ipykernel_launcher.py:2: DeprecationWarning: `NormalDistribution` is deprecated as of version 0.17.0 and will be removed no earlier than 3 months after the release date. It moved to qiskit_finance.circuit.library.NormalDistribution.\n",
      "  \n",
      "C:\\Users\\joemo\\AppData\\Roaming\\Python\\Python37\\site-packages\\ipykernel_launcher.py:11: MatplotlibDeprecationWarning: savefig() got unexpected keyword argument \"formt\" which is no longer supported as of 3.3 and will become an error two minor releases later\n",
      "  # This is added back by InteractiveShellApp.init_path()\n",
      "C:\\Users\\joemo\\AppData\\Roaming\\Python\\Python37\\site-packages\\ipykernel_launcher.py:20: MatplotlibDeprecationWarning: savefig() got unexpected keyword argument \"formt\" which is no longer supported as of 3.3 and will become an error two minor releases later\n"
     ]
    },
    {
     "data": {
      "image/png": "[encoded data removed]",
      "text/plain": [
       "<Figure size 226.772x170.079 with 1 Axes>"
      ]
     },
     "metadata": {},
     "output_type": "display_data"
    },
    {
     "data": {
      "image/png": "[encoded data removed]",
      "text/plain": [
       "<Figure size 226.772x170.079 with 1 Axes>"
      ]
     },
     "metadata": {},
     "output_type": "display_data"
    }
   ],
   "source": [
    "# starting point is a multi-variate normal distribution\n",
    "single_normal = NormalDistribution(3, mu=0, sigma=1, bounds=(-3, 3) )\n",
    "\n",
    "fig = plt.figure(figsize=(8*cm,6*cm))  \n",
    "ax = fig.add_axes([0.2, 0.19, 0.77, 0.77])\n",
    "fig.set_facecolor('w')\n",
    "ax.bar(np.arange(0, 2**3), single_normal._probabilities)\n",
    "ax.set_yscale(\"log\")\n",
    "ax.set_xlabel('Register integer value pre-transform')\n",
    "ax.set_ylabel('Probability')\n",
    "fig.savefig('piecewise_transform_before.pdf', formt='pdf', facecolor=fig.get_facecolor(), transparent=True)\n",
    "\n",
    "fig = plt.figure(figsize=(8*cm,6*cm))  \n",
    "ax = fig.add_axes([0.2, 0.19, 0.77, 0.77])\n",
    "fig.set_facecolor('w')\n",
    "ax.bar(i_to_js[0](np.arange(0, 2**3)), single_normal._probabilities)\n",
    "ax.set_yscale(\"log\")\n",
    "ax.set_xlabel('Register integer value post-transform')\n",
    "ax.set_ylabel('Probability')\n",
    "fig.savefig('piecewise_transform_after.pdf', formt='pdf', facecolor=fig.get_facecolor(), transparent=True)"
   ]
  },
  {
   "cell_type": "code",
   "execution_count": null,
   "metadata": {},
   "outputs": [],
   "source": [
    "fig = plt.figure(figsize=(8*cm,6*cm))  \n",
    "ax = fig.add_axes([0.2, 0.19, 0.77, 0.77])\n",
    "fig.set_facecolor('w')\n",
    "plt.plot(xf2, pdf_fn(xf2), label = \"Fitted\")\n",
    "ax.hist(rets, density = True, bins = 100, label = \"Empirical\")\n",
    "ax.set_xlim(-6, 4)\n",
    "ax.set_xlabel('Return ($\\sigma$)')\n",
    "ax.set_ylabel('Probability density')\n",
    "ax.legend()\n",
    "fig.savefig('hist_pdf_spline_fitted.pdf', format='pdf', facecolor=fig.get_facecolor(), transparent=True)"
   ]
  },
  {
   "cell_type": "code",
   "execution_count": 6,
   "metadata": {},
   "outputs": [],
   "source": [
    "num_ancillas = transforms[0].num_ancilla_qubits\n",
    "qr_input = QuantumRegister(nbits * 2, 'input') # 2 times 3 registers\n",
    "qr_objective = QuantumRegister(1, 'objective')\n",
    "qr_result = QuantumRegister(nbits * 2, 'result')\n",
    "qr_ancilla = QuantumRegister(num_ancillas, 'ancilla')\n",
    "output = ClassicalRegister(nbits * 2, 'output')\n",
    "\n",
    "state_preparation = QuantumCircuit(qr_input, qr_objective, qr_result, qr_ancilla, output) \n",
    "state_preparation.append(normal, qr_input)\n",
    "\n",
    "for i in range(2):\n",
    "    offset = i * nbits\n",
    "    state_preparation.append(transforms[i], qr_input[offset:offset + nbits] + qr_result[:] + qr_ancilla[:])\n",
    "\n",
    "# to calculate the cdf, we use an additional comparator\n",
    "x_eval = 5\n",
    "comparator = IntegerComparator(len(qr_result), x_eval + 1, geq=False)\n",
    "state_preparation.append(comparator, qr_result[:] + qr_objective[:] + qr_ancilla[0:comparator.num_ancillas])\n",
    "\n",
    "state_preparation.measure(qr_result, output)\n",
    "\n",
    "# now check\n",
    "check = False\n",
    "if check:\n",
    "    job = execute(state_preparation, backend=Aer.get_backend('statevector_simulator'))\n",
    "    var_prob = 0\n",
    "    for i, a in enumerate(job.result().get_statevector()):\n",
    "        b = ('{0:0%sb}' % (len(qr_input) + 1)).format(i)[-(len(qr_input) + 1):]\n",
    "        prob = np.abs(a)**2\n",
    "        if prob > 1e-6 and b[0] == '1':\n",
    "            var_prob += prob\n",
    "    print('Operator CDF(%s)' % x_eval + ' = %.4f' % var_prob)\n",
    "\n"
   ]
  },
  {
   "cell_type": "code",
   "execution_count": 8,
   "metadata": {},
   "outputs": [
    {
     "data": {
      "text/html": [
       "<pre style=\"word-wrap: normal;white-space: pre;background: #fff0;line-height: 1.1;font-family: &quot;Courier New&quot;,Courier,monospace\">             ┌───────┐┌───────────────────┐                                   »\n",
       "    input_0: ┤0      ├┤0                  ├───────────────────────────────────»\n",
       "             │       ││                   │                                   »\n",
       "    input_1: ┤1      ├┤1                  ├───────────────────────────────────»\n",
       "             │  P(X) ││                   │┌───────────────────┐              »\n",
       "    input_2: ┤2      ├┤                   ├┤0                  ├──────────────»\n",
       "             │       ││                   ││                   │              »\n",
       "    input_3: ┤3      ├┤                   ├┤1                  ├──────────────»\n",
       "             └───────┘│                   ││                   │┌──────┐      »\n",
       "objective_0: ─────────┤                   ├┤                   ├┤4     ├──────»\n",
       "                      │                   ││                   ││      │┌─┐   »\n",
       "   result_0: ─────────┤2                  ├┤2                  ├┤0     ├┤M├───»\n",
       "                      │                   ││                   ││      │└╥┘┌─┐»\n",
       "   result_1: ─────────┤3                  ├┤3                  ├┤1     ├─╫─┤M├»\n",
       "                      │                   ││                   ││      │ ║ └╥┘»\n",
       "   result_2: ─────────┤4                  ├┤4                  ├┤2     ├─╫──╫─»\n",
       "                      │                   ││                   ││  cmp │ ║  ║ »\n",
       "   result_3: ─────────┤5                  ├┤5                  ├┤3     ├─╫──╫─»\n",
       "                      │   pwise_lin_trans ││                   ││      │ ║  ║ »\n",
       "  ancilla_0: ─────────┤6                  ├┤6                  ├┤5     ├─╫──╫─»\n",
       "                      │                   ││   pwise_lin_trans ││      │ ║  ║ »\n",
       "  ancilla_1: ─────────┤7                  ├┤7                  ├┤6     ├─╫──╫─»\n",
       "                      │                   ││                   ││      │ ║  ║ »\n",
       "  ancilla_2: ─────────┤8                  ├┤8                  ├┤7     ├─╫──╫─»\n",
       "                      │                   ││                   │└──────┘ ║  ║ »\n",
       "  ancilla_3: ─────────┤9                  ├┤9                  ├─────────╫──╫─»\n",
       "                      │                   ││                   │         ║  ║ »\n",
       "  ancilla_4: ─────────┤10                 ├┤10                 ├─────────╫──╫─»\n",
       "                      │                   ││                   │         ║  ║ »\n",
       "  ancilla_5: ─────────┤11                 ├┤11                 ├─────────╫──╫─»\n",
       "                      │                   ││                   │         ║  ║ »\n",
       "  ancilla_6: ─────────┤12                 ├┤12                 ├─────────╫──╫─»\n",
       "                      │                   ││                   │         ║  ║ »\n",
       "  ancilla_7: ─────────┤13                 ├┤13                 ├─────────╫──╫─»\n",
       "                      │                   ││                   │         ║  ║ »\n",
       "  ancilla_8: ─────────┤14                 ├┤14                 ├─────────╫──╫─»\n",
       "                      └───────────────────┘└───────────────────┘         ║  ║ »\n",
       "   output: 4/════════════════════════════════════════════════════════════╩══╩═»\n",
       "                                                                         0  1 »\n",
       "«                   \n",
       "«    input_0: ──────\n",
       "«                   \n",
       "«    input_1: ──────\n",
       "«                   \n",
       "«    input_2: ──────\n",
       "«                   \n",
       "«    input_3: ──────\n",
       "«                   \n",
       "«objective_0: ──────\n",
       "«                   \n",
       "«   result_0: ──────\n",
       "«                   \n",
       "«   result_1: ──────\n",
       "«             ┌─┐   \n",
       "«   result_2: ┤M├───\n",
       "«             └╥┘┌─┐\n",
       "«   result_3: ─╫─┤M├\n",
       "«              ║ └╥┘\n",
       "«  ancilla_0: ─╫──╫─\n",
       "«              ║  ║ \n",
       "«  ancilla_1: ─╫──╫─\n",
       "«              ║  ║ \n",
       "«  ancilla_2: ─╫──╫─\n",
       "«              ║  ║ \n",
       "«  ancilla_3: ─╫──╫─\n",
       "«              ║  ║ \n",
       "«  ancilla_4: ─╫──╫─\n",
       "«              ║  ║ \n",
       "«  ancilla_5: ─╫──╫─\n",
       "«              ║  ║ \n",
       "«  ancilla_6: ─╫──╫─\n",
       "«              ║  ║ \n",
       "«  ancilla_7: ─╫──╫─\n",
       "«              ║  ║ \n",
       "«  ancilla_8: ─╫──╫─\n",
       "«              ║  ║ \n",
       "«   output: 4/═╩══╩═\n",
       "«              2  3 </pre>"
      ],
      "text/plain": [
       "             ┌───────┐┌───────────────────┐                                   »\n",
       "    input_0: ┤0      ├┤0                  ├───────────────────────────────────»\n",
       "             │       ││                   │                                   »\n",
       "    input_1: ┤1      ├┤1                  ├───────────────────────────────────»\n",
       "             │  P(X) ││                   │┌───────────────────┐              »\n",
       "    input_2: ┤2      ├┤                   ├┤0                  ├──────────────»\n",
       "             │       ││                   ││                   │              »\n",
       "    input_3: ┤3      ├┤                   ├┤1                  ├──────────────»\n",
       "             └───────┘│                   ││                   │┌──────┐      »\n",
       "objective_0: ─────────┤                   ├┤                   ├┤4     ├──────»\n",
       "                      │                   ││                   ││      │┌─┐   »\n",
       "   result_0: ─────────┤2                  ├┤2                  ├┤0     ├┤M├───»\n",
       "                      │                   ││                   ││      │└╥┘┌─┐»\n",
       "   result_1: ─────────┤3                  ├┤3                  ├┤1     ├─╫─┤M├»\n",
       "                      │                   ││                   ││      │ ║ └╥┘»\n",
       "   result_2: ─────────┤4                  ├┤4                  ├┤2     ├─╫──╫─»\n",
       "                      │                   ││                   ││  cmp │ ║  ║ »\n",
       "   result_3: ─────────┤5                  ├┤5                  ├┤3     ├─╫──╫─»\n",
       "                      │   pwise_lin_trans ││                   ││      │ ║  ║ »\n",
       "  ancilla_0: ─────────┤6                  ├┤6                  ├┤5     ├─╫──╫─»\n",
       "                      │                   ││   pwise_lin_trans ││      │ ║  ║ »\n",
       "  ancilla_1: ─────────┤7                  ├┤7                  ├┤6     ├─╫──╫─»\n",
       "                      │                   ││                   ││      │ ║  ║ »\n",
       "  ancilla_2: ─────────┤8                  ├┤8                  ├┤7     ├─╫──╫─»\n",
       "                      │                   ││                   │└──────┘ ║  ║ »\n",
       "  ancilla_3: ─────────┤9                  ├┤9                  ├─────────╫──╫─»\n",
       "                      │                   ││                   │         ║  ║ »\n",
       "  ancilla_4: ─────────┤10                 ├┤10                 ├─────────╫──╫─»\n",
       "                      │                   ││                   │         ║  ║ »\n",
       "  ancilla_5: ─────────┤11                 ├┤11                 ├─────────╫──╫─»\n",
       "                      │                   ││                   │         ║  ║ »\n",
       "  ancilla_6: ─────────┤12                 ├┤12                 ├─────────╫──╫─»\n",
       "                      │                   ││                   │         ║  ║ »\n",
       "  ancilla_7: ─────────┤13                 ├┤13                 ├─────────╫──╫─»\n",
       "                      │                   ││                   │         ║  ║ »\n",
       "  ancilla_8: ─────────┤14                 ├┤14                 ├─────────╫──╫─»\n",
       "                      └───────────────────┘└───────────────────┘         ║  ║ »\n",
       "   output: 4/════════════════════════════════════════════════════════════╩══╩═»\n",
       "                                                                         0  1 »\n",
       "«                   \n",
       "«    input_0: ──────\n",
       "«                   \n",
       "«    input_1: ──────\n",
       "«                   \n",
       "«    input_2: ──────\n",
       "«                   \n",
       "«    input_3: ──────\n",
       "«                   \n",
       "«objective_0: ──────\n",
       "«                   \n",
       "«   result_0: ──────\n",
       "«                   \n",
       "«   result_1: ──────\n",
       "«             ┌─┐   \n",
       "«   result_2: ┤M├───\n",
       "«             └╥┘┌─┐\n",
       "«   result_3: ─╫─┤M├\n",
       "«              ║ └╥┘\n",
       "«  ancilla_0: ─╫──╫─\n",
       "«              ║  ║ \n",
       "«  ancilla_1: ─╫──╫─\n",
       "«              ║  ║ \n",
       "«  ancilla_2: ─╫──╫─\n",
       "«              ║  ║ \n",
       "«  ancilla_3: ─╫──╫─\n",
       "«              ║  ║ \n",
       "«  ancilla_4: ─╫──╫─\n",
       "«              ║  ║ \n",
       "«  ancilla_5: ─╫──╫─\n",
       "«              ║  ║ \n",
       "«  ancilla_6: ─╫──╫─\n",
       "«              ║  ║ \n",
       "«  ancilla_7: ─╫──╫─\n",
       "«              ║  ║ \n",
       "«  ancilla_8: ─╫──╫─\n",
       "«              ║  ║ \n",
       "«   output: 4/═╩══╩═\n",
       "«              2  3 "
      ]
     },
     "execution_count": 8,
     "metadata": {},
     "output_type": "execute_result"
    }
   ],
   "source": [
    "state_preparation.draw()"
   ]
  },
  {
   "cell_type": "code",
   "execution_count": 7,
   "metadata": {},
   "outputs": [],
   "source": [
    "#state_preparation.draw()\n",
    "fig = state_preparation.draw(output='mpl')\n",
    "fig.savefig('../../../outputs/trans_circuit_detail.pdf', format='pdf', facecolor=fig.get_facecolor(), transparent=True, bbox_inches='tight')"
   ]
  },
  {
   "cell_type": "code",
   "execution_count": 7,
   "metadata": {},
   "outputs": [
    {
     "data": {
      "text/plain": [
       "<BarContainer object of 34 artists>"
      ]
     },
     "execution_count": 7,
     "metadata": {},
     "output_type": "execute_result"
    },
    {
     "data": {
      "image/png": "[encoded data removed]",
      "text/plain": [
       "<Figure size 432x288 with 1 Axes>"
      ]
     },
     "metadata": {
      "needs_background": "light"
     },
     "output_type": "display_data"
    }
   ],
   "source": [
    "counts = execute(state_preparation, Aer.get_backend('qasm_simulator'), shots = 100000).result().get_counts()\n",
    "from qiskit.visualization import plot_histogram\n",
    "plot_histogram(counts, title = \"transform of normal\")\n",
    "vals = [int(i, 2) for i,j in counts.items()]\n",
    "cnts = np.array([j for i,j in counts.items()])\n",
    "\n",
    "plt.bar(vals, cnts)\n",
    "\n"
   ]
  },
  {
   "cell_type": "code",
   "execution_count": 8,
   "metadata": {},
   "outputs": [
    {
     "name": "stderr",
     "output_type": "stream",
     "text": [
      "No handles with labels found to put in legend.\n"
     ]
    },
    {
     "data": {
      "image/png": "[encoded data removed]",
      "text/plain": [
       "<Figure size 226.772x170.079 with 1 Axes>"
      ]
     },
     "metadata": {},
     "output_type": "display_data"
    }
   ],
   "source": [
    "vals2 = p_min * 2 + np.array(vals) * 2 * (p_max - p_min) / (2**(nbits * 2) - 1) \n",
    "cnts = np.array([j for i,j in counts.items()])\n",
    "cnts2 = cnts / np.sum(cnts)\n",
    "\n",
    "fig = plt.figure(figsize=(8*cm,6*cm))  \n",
    "ax = fig.add_axes([0.2, 0.19, 0.77, 0.77])\n",
    "fig.set_facecolor('w')\n",
    "plt.bar(vals2, cnts2, width = 0.2)\n",
    "ax.set_xlabel('Normalised P&L')\n",
    "ax.set_ylabel('Probability')\n",
    "ax.legend()\n",
    "fig.savefig('pnl_quantum.pdf', format='pdf', facecolor=fig.get_facecolor(), transparent=True)"
   ]
  },
  {
   "cell_type": "code",
   "execution_count": null,
   "metadata": {},
   "outputs": [],
   "source": [
    "# based on Sascha's noise model\n",
    "\n",
    "import qiskit.providers.aer.noise as noise\n",
    "from qiskit.utils import QuantumInstance\n",
    "\n",
    "# Noise settings\n",
    "use_noise = True #False\n",
    "error_scaling_factor = 2 ** 0 # Reference point: 1.0 (= no scaling)\n",
    "error_prob_1_gate  = 0.001 * error_scaling_factor\n",
    "error_prob_2_gates = 0.001 * error_scaling_factor\n",
    "error_prob_measure = 0.001 * error_scaling_factor\n",
    "\n",
    "error_1 = noise.depolarizing_error(error_prob_1_gate,  1)\n",
    "error_2 = noise.depolarizing_error(error_prob_2_gates, 2)\n",
    "\n",
    "# Measurement errors\n",
    "error_m = noise.pauli_error([('X', error_prob_measure), ('I', 1 - error_prob_measure)])\n",
    "\n",
    "noise_model = noise.NoiseModel()\n",
    "\n",
    "noise_model.add_all_qubit_quantum_error(error_1, ['u1', 'u2', 'u3'])\n",
    "noise_model.add_all_qubit_quantum_error(error_2, ['cx'])\n",
    "noise_model.add_all_qubit_quantum_error(error_m, \"measure\")\n",
    "\n",
    "# Prepare IQAE\n",
    "backend = Aer.get_backend(simulator)\n",
    "\n",
    "qinstance = QuantumInstance(backend=backend,\n",
    "                                seed_simulator=2,\n",
    "                                seed_transpiler=2,   \n",
    "                                shots=shots, \n",
    "                                noise_model=noise_model)\n",
    "\n",
    "problem = EstimationProblem(state_preparation=state_preparation, objective_qubits=obj_qubit_ID)\n",
    "iqae = IterativeAmplitudeEstimation(epsilon_target=epsilon, alpha=alpha, quantum_instance=qinstance)\n",
    "result = iqae.estimate(problem)\n",
    "\n"
   ]
  },
  {
   "cell_type": "code",
   "execution_count": null,
   "metadata": {},
   "outputs": [],
   "source": [
    "IBMQ.save_account(\"543dce4ab356df3a024dfcf606c9d74a31277e39232f0429dacdb0e00daa3622d02865023f613afd659783251eb5bde6f06e9d0f5f1a95b03fdf8a0d34449bef\")\n",
    "provider = IBMQ.load_account()\n",
    "provider.backends()\n",
    "backend = provider.get_backend('ibmq_montreal')"
   ]
  },
  {
   "cell_type": "code",
   "execution_count": 31,
   "metadata": {},
   "outputs": [],
   "source": [
    "from qiskit import IBMQ, transpile\n",
    "from qiskit import QuantumCircuit\n",
    "from qiskit.providers.aer import AerSimulator\n",
    "from qiskit.test.mock import FakeMontreal\n",
    "device_backend = FakeMontreal() \n",
    "sim_be = AerSimulator.from_backend(device_backend)\n",
    "\n",
    "#sim_ideal = AerSimulator()\n",
    "#result = sim_ideal.run(transpile(state_preparation, sim_ideal)).result()\n",
    "#counts = result.get_counts(0)\n",
    "\n",
    "tcirc = transpile(state_preparation, sim_be)\n",
    "result_noise = sim_be.run(tcirc).result()\n",
    "counts_noise = result_noise.get_counts(0)\n",
    "\n",
    "from qiskit.visualization import plot_histogram\n",
    "plot_histogram(counts, title = \"transform of normal\")\n",
    "vals = [int(i, 2) for i,j in counts.items()]\n",
    "cnts = [j for i,j in counts.items()]\n",
    "plt.bar(vals, cnts)"
   ]
  },
  {
   "cell_type": "code",
   "execution_count": 5,
   "metadata": {},
   "outputs": [],
   "source": [
    "from qiskit import QuantumCircuit, execute\n",
    "from qiskit import IBMQ, Aer\n",
    "from qiskit.visualization import plot_histogram\n",
    "from qiskit.providers.aer.noise import NoiseModel\n",
    "\n",
    "# Build noise model from backend properties\n",
    "#provider = IBMQ.load_account()\n",
    "from qiskit.test.mock import FakeMontreal\n",
    "backend = FakeMontreal()\n",
    "#backend = provider.get_backend('ibmq_montreal')\n",
    "noise_model = NoiseModel.from_backend(backend)\n",
    "\n",
    "# Get coupling map from backend\n",
    "coupling_map = backend.configuration().coupling_map\n",
    "\n",
    "# Get basis gates from noise model\n",
    "basis_gates = noise_model.basis_gates\n",
    "\n",
    "counts = execute(state_preparation, Aer.get_backend('qasm_simulator'), \n",
    "                #shots = 500000,\n",
    "                coupling_map=coupling_map,\n",
    "                basis_gates=basis_gates,\n",
    "                noise_model=noise_model\n",
    "                ).result().get_counts()\n",
    "\n",
    "from qiskit.visualization import plot_histogram\n",
    "plot_histogram(counts, title = \"transform of normal\")\n",
    "vals = [int(i, 2) for i,j in counts.items()]\n",
    "cnts = [j for i,j in counts.items()]\n",
    "plt.bar(vals, cnts)\n"
   ]
  },
  {
   "cell_type": "code",
   "execution_count": 5,
   "metadata": {},
   "outputs": [
    {
     "name": "stdout",
     "output_type": "stream",
     "text": [
      "22:38:34\n",
      "Estimated value:\t0.1146\n",
      "Confidence interval: \t[0.1121, 0.1170]\n",
      "23:08:01\n"
     ]
    }
   ],
   "source": [
    "import qiskit.providers.aer.noise as noise\n",
    "from qiskit.utils import QuantumInstance\n",
    "\n",
    "print(time.strftime(\"%H:%M:%S\", time.localtime()))\n",
    "\n",
    "error_scaling_factor = 2 ** 0 # Reference point: 1.0 (= no scaling)\n",
    "error_prob_1_gate  = 0.001 * error_scaling_factor\n",
    "error_prob_2_gates = 0.001 * error_scaling_factor\n",
    "error_prob_measure = 0.001 * error_scaling_factor\n",
    "\n",
    "error_1 = noise.depolarizing_error(error_prob_1_gate,  1)\n",
    "error_2 = noise.depolarizing_error(error_prob_2_gates, 2)\n",
    "\n",
    "# Measurement errors\n",
    "error_m = noise.pauli_error([('X', error_prob_measure), ('I', 1 - error_prob_measure)])\n",
    "\n",
    "noise_model = noise.NoiseModel()\n",
    "\n",
    "noise_model.add_all_qubit_quantum_error(error_1, ['u1', 'u2', 'u3'])\n",
    "noise_model.add_all_qubit_quantum_error(error_2, ['cx'])\n",
    "noise_model.add_all_qubit_quantum_error(error_m, \"measure\")\n",
    "\n",
    "# now do AE\n",
    "problem = EstimationProblem(state_preparation=state_preparation,\n",
    "                    objective_qubits=[len(qr_input)])\n",
    "\n",
    "# target precision and confidence level\n",
    "epsilon = 0.01\n",
    "alpha = 0.05\n",
    "qi = QuantumInstance(Aer.get_backend('aer_simulator'), noise_model=noise_model)\n",
    "ae_cdf = IterativeAmplitudeEstimation(epsilon, alpha=alpha, quantum_instance=qi)\n",
    "result_cdf = ae_cdf.estimate(problem)\n",
    "\n",
    "\n",
    "conf_int = np.array(result_cdf.confidence_interval)\n",
    "print('Estimated value:\\t%.4f' % result_cdf.estimation)\n",
    "print('Confidence interval: \\t[%.4f, %.4f]' % tuple(conf_int))\n",
    "\n",
    "#state_preparation.draw()\n",
    "\n",
    "print(time.strftime(\"%H:%M:%S\", time.localtime()))"
   ]
  },
  {
   "cell_type": "code",
   "execution_count": 18,
   "metadata": {},
   "outputs": [],
   "source": [
    "def get_sims(normal_distribution):\n",
    "    import numpy as np\n",
    "    values = normal_distribution._values\n",
    "    probs = normal_distribution._probabilities\n",
    "    # we generate a bunch of realisation of values, based \n",
    "    upper_bounds = [0.0]\n",
    "    stop = 0.0\n",
    "    for val, prob in zip(values, probs):\n",
    "        stop += prob\n",
    "        upper_bounds.append(stop)\n",
    "    \n",
    "    np.random.seed = 101\n",
    "    r = np.random.uniform(low=0.0, high=1.0, size=1000000)\n",
    "    indices = np.searchsorted(upper_bounds, r, side='left', sorter=None) - 1\n",
    "\n",
    "    g1, g2 = np.meshgrid(range(2**nbits), range(2**nbits), indexing=\"ij\",)\n",
    "    i1 = g1.flatten()[indices]\n",
    "    i2 = g2.flatten()[indices]\n",
    "    #x = list(zip(*(grid.flatten() for grid in meshgrid)))\n",
    "    return i1, i2\n",
    "\n",
    "i1, i2 = get_sims(normal)\n",
    "j1 = i_to_js[0](i1)\n",
    "j2 = i_to_js[1](i2)\n",
    "j_tot = j1 + j2\n",
    "\n",
    "\n",
    "\n"
   ]
  },
  {
   "cell_type": "code",
   "execution_count": 19,
   "metadata": {},
   "outputs": [
    {
     "data": {
      "text/plain": [
       "<BarContainer object of 37 artists>"
      ]
     },
     "execution_count": 19,
     "metadata": {},
     "output_type": "execute_result"
    },
    {
     "data": {
      "image/png": "[encoded data removed]",
      "text/plain": [
       "<Figure size 432x288 with 1 Axes>"
      ]
     },
     "metadata": {
      "needs_background": "light"
     },
     "output_type": "display_data"
    }
   ],
   "source": [
    "import collections\n",
    "counts = {}\n",
    "for item in j_tot:\n",
    "    if item in counts:\n",
    "        counts[item] += 1\n",
    "    else:\n",
    "        counts[item] = 1\n",
    "\n",
    "counts = collections.OrderedDict(sorted(counts.items()))\n",
    "\n",
    "vals = [i for i,j in counts.items()]\n",
    "cnts = [j for i,j in counts.items()]\n",
    "plt.bar(vals, cnts)"
   ]
  },
  {
   "cell_type": "code",
   "execution_count": 9,
   "metadata": {},
   "outputs": [
    {
     "name": "stderr",
     "output_type": "stream",
     "text": [
      "No handles with labels found to put in legend.\n"
     ]
    },
    {
     "data": {
      "image/png": "[encoded data removed]",
      "text/plain": [
       "<Figure size 226.772x170.079 with 1 Axes>"
      ]
     },
     "metadata": {},
     "output_type": "display_data"
    }
   ],
   "source": [
    "vals2 = p_min * 2 + np.array(vals) * 2 * (p_max - p_min) / (2**(nbits * 2) - 1) \n",
    "cnts = np.array([j for i,j in counts.items()])\n",
    "cnts2 = cnts / np.sum(cnts)\n",
    "\n",
    "fig = plt.figure(figsize=(8*cm,6*cm))  \n",
    "ax = fig.add_axes([0.2, 0.19, 0.77, 0.77])\n",
    "fig.set_facecolor('w')\n",
    "plt.bar(vals2, cnts2, width = 0.2)\n",
    "ax.set_xlabel('Normalised P&L')\n",
    "ax.set_ylabel('Probability')\n",
    "ax.legend()\n",
    "fig.savefig('pnl_classical.pdf', format='pdf', facecolor=fig.get_facecolor(), transparent=True)"
   ]
  },
  {
   "cell_type": "code",
   "execution_count": 21,
   "metadata": {},
   "outputs": [
    {
     "name": "stdout",
     "output_type": "stream",
     "text": [
      "0.492731\n",
      "5.80827695826642\n"
     ]
    }
   ],
   "source": [
    "sum = 0\n",
    "for v,c in zip(vals, cnts):\n",
    "    if v <= 8:\n",
    "        sum += c\n",
    "print(float(sum) / 1000000)\n",
    "\n",
    "print(p_min * 2 + 14 * 2 * (p_max - p_min) / (2**(nbits * 2) - 1) )\n",
    "\n"
   ]
  },
  {
   "cell_type": "code",
   "execution_count": 11,
   "metadata": {},
   "outputs": [],
   "source": [
    "correl = ft.get_correl(\"AAPL\", \"MSFT\")\n",
    "\n",
    "c = np.linalg.cholesky(correl)\n",
    "r = np.random.normal(0, 1, size = (2, 1000000))\n",
    "v = c@r\n",
    "\n",
    "v1 = np.vectorize(pl_set[0])(v[0, :])\n",
    "v2 = np.vectorize(pl_set[1])(v[1, :])\n",
    "\n",
    "vt = v1 + v2"
   ]
  },
  {
   "cell_type": "code",
   "execution_count": 12,
   "metadata": {},
   "outputs": [
    {
     "data": {
      "image/png": "[encoded data removed]",
      "text/plain": [
       "<Figure size 226.772x170.079 with 1 Axes>"
      ]
     },
     "metadata": {},
     "output_type": "display_data"
    }
   ],
   "source": [
    "cm = 1 / 2.54\n",
    "fig = plt.figure(figsize=(8*cm,6*cm))  \n",
    "ax = fig.add_axes([0.2, 0.19, 0.77, 0.77])\n",
    "fig.set_facecolor('w')\n",
    "_ = plt.hist(vt, bins = 200, density = True)\n",
    "ax.set_xlabel('Normalised P&L')\n",
    "ax.set_ylabel('Probability density')\n",
    "ax.set_xlim(-10, 10)\n",
    "fig.savefig('pnl_classical_continuous.pdf', format='pdf', facecolor=fig.get_facecolor(), transparent=True)"
   ]
  },
  {
   "cell_type": "code",
   "execution_count": 150,
   "metadata": {},
   "outputs": [
    {
     "data": {
      "text/plain": [
       "-5.45930852461163"
      ]
     },
     "execution_count": 150,
     "metadata": {},
     "output_type": "execute_result"
    }
   ],
   "source": [
    "np.percentile(vt, 1.0)"
   ]
  },
  {
   "cell_type": "code",
   "execution_count": 20,
   "metadata": {},
   "outputs": [],
   "source": [
    "import quantum_mc.calibration.time_series as ts\n",
    "(cdf_c_x, cdf_c_y) = ts.ecdf(vt)\n",
    "\n",
    "#(cdf_d_x, cdf_d_y) = ts.ecdf(vt)\n",
    "\n",
    "sum = 0\n",
    "cum_sum = []\n",
    "for v,c in zip(vals, cnts):\n",
    "    sum += c\n",
    "    cum_sum.append(sum)\n",
    "cum_sum = np.array(cum_sum)\n",
    "cum_sum = cum_sum / np.max(cum_sum)\n",
    "vals2 = p_min * 2 + np.array(vals) * 2 * (p_max - p_min) / (2**(nbits * 2) - 1)"
   ]
  },
  {
   "cell_type": "code",
   "execution_count": 22,
   "metadata": {},
   "outputs": [
    {
     "data": {
      "image/png": "[encoded data removed]",
      "text/plain": [
       "<Figure size 226.772x170.079 with 1 Axes>"
      ]
     },
     "metadata": {},
     "output_type": "display_data"
    }
   ],
   "source": [
    "vals_2bits = np.array([-10.70188609, -7.39985348, -6.29917595, -5.19849841, -2.99714334, -1.8964658, -0.79578826, 1.40556681, 2.50624435, 4.70759942])\n",
    "cum_prob_2bits = np.array([0.003903, 0.007387, 0.010792, 0.010795, 0.462747, 0.537787, 0.98928, 0.992701, 0.996142, 1.])\n",
    "\n",
    "fig = plt.figure(figsize=(8*cm,6*cm))  \n",
    "ax = fig.add_axes([0.2, 0.19, 0.77, 0.77])\n",
    "fig.set_facecolor('w')\n",
    "plt.plot(cdf_c_x, cdf_c_y, label = \"Continuous\", )\n",
    "plt.plot(vals2, cum_sum, '--', label = \"3 qubit\")\n",
    "plt.plot(vals_2bits, cum_prob_2bits, ':', label = \"2 qubit\")\n",
    "ax.set_yscale(\"log\")\n",
    "ax.set_xlabel('Normalised P&L')\n",
    "ax.set_ylabel('Cumulative probability')\n",
    "ax.set_xlim(-8, 5)\n",
    "#ax.set_ylim(0.001, 0.02)\n",
    "ax.set_ylim(0.001, 0.999)\n",
    "ax.legend()\n",
    "fig.savefig('cdf_class_quant_log.pdf', format='pdf', facecolor=fig.get_facecolor(), transparent=True)\n"
   ]
  },
  {
   "cell_type": "code",
   "execution_count": 23,
   "metadata": {},
   "outputs": [
    {
     "data": {
      "image/png": "[encoded data removed]",
      "text/plain": [
       "<Figure size 226.772x170.079 with 1 Axes>"
      ]
     },
     "metadata": {},
     "output_type": "display_data"
    }
   ],
   "source": [
    "fig = plt.figure(figsize=(8*cm,6*cm))  \n",
    "ax = fig.add_axes([0.2, 0.19, 0.77, 0.77])\n",
    "fig.set_facecolor('w')\n",
    "plt.plot(cdf_c_x, cdf_c_y, label = \"Continuous\")\n",
    "plt.plot(vals2, cum_sum, '--', label = \"3 qubit\")\n",
    "plt.plot(vals_2bits, cum_prob_2bits, ':', label = \"2 qubit\")\n",
    "#ax.set_yscale(\"log\")\n",
    "ax.set_xlabel('Normalised P&L')\n",
    "ax.set_ylabel('Cumulative probability')\n",
    "ax.set_xlim(-8, 5)\n",
    "#ax.set_ylim(0.001, 0.02)\n",
    "ax.set_ylim(0.001, 0.999)\n",
    "ax.legend()\n",
    "fig.savefig('cdf_class_quant_lin.pdf', format='pdf', facecolor=fig.get_facecolor(), transparent=True)\n"
   ]
  },
  {
   "cell_type": "code",
   "execution_count": 30,
   "metadata": {},
   "outputs": [
    {
     "name": "stdout",
     "output_type": "stream",
     "text": [
      "Continuous\n",
      "[-5.44 -4.21 -3.23]\n",
      "3 qubits\n",
      "[-6.22 -4.88 -3.77]\n",
      "[14.32 15.84 16.60]\n",
      "2 qubits\n",
      "[-6.56 -5.13 -5.01]\n",
      "[20.47 21.81 55.00]\n"
     ]
    }
   ],
   "source": [
    "cont = np.interp([0.01, 0.025, 0.05], cdf_c_y, cdf_c_x)\n",
    "quant3 = np.interp([0.01, 0.025, 0.05], cum_sum, vals2)\n",
    "quant2 = np.interp([0.01, 0.025, 0.05], cum_prob_2bits, vals_2bits)\n",
    "np.set_printoptions(formatter={'float': lambda x: \"{0:0.2f}\".format(x)})\n",
    "print('Continuous')\n",
    "print(cont)\n",
    "print('3 qubits')\n",
    "print(quant3)\n",
    "print(abs(quant3/cont - 1) * 100)\n",
    "print('2 qubits')\n",
    "print(quant2)\n",
    "print(abs(quant2/cont - 1) * 100)"
   ]
  },
  {
   "cell_type": "code",
   "execution_count": null,
   "metadata": {},
   "outputs": [],
   "source": [
    "print(\"Check\")"
   ]
  }
 ],
 "metadata": {
  "interpreter": {
   "hash": "b1242c21bec528c7315eb52ee88c05dce38c97c1e971b2abd9e56f88cd13fcd5"
  },
  "kernelspec": {
   "display_name": "Python 3.7.9 64-bit",
   "name": "python3"
  },
  "language_info": {
   "codemirror_mode": {
    "name": "ipython",
    "version": 3
   },
   "file_extension": ".py",
   "mimetype": "text/x-python",
   "name": "python",
   "nbconvert_exporter": "python",
   "pygments_lexer": "ipython3",
   "version": "3.7.9"
  },
  "metadata": {
   "interpreter": {
    "hash": "b1242c21bec528c7315eb52ee88c05dce38c97c1e971b2abd9e56f88cd13fcd5"
   }
  },
  "orig_nbformat": 2
 },
 "nbformat": 4,
 "nbformat_minor": 2
}
