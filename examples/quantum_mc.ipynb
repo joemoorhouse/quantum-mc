{
 "cells": [
  {
   "cell_type": "code",
   "execution_count": 1,
   "metadata": {},
   "outputs": [],
   "source": [
    "sys.path.append(\"..\") # see os.getcwd()\n",
    "import time\n",
    "from quantum_mc.arithmetic.piecewise_linear_transform import PiecewiseLinearTransform3\n",
    "import numpy as np\n",
    "from qiskit.test.base import QiskitTestCase\n",
    "import quantum_mc.calibration.fitting as ft\n",
    "import quantum_mc.calibration.time_series as ts\n",
    "from scipy.stats import multivariate_normal, norm\n",
    "from qiskit.test.base import QiskitTestCase\n",
    "from qiskit import execute, Aer, QuantumCircuit, QuantumRegister, ClassicalRegister, AncillaRegister\n",
    "from qiskit.quantum_info import Statevector\n",
    "#from qiskit_finance.circuit.library import NormalDistribution\n",
    "from qiskit.circuit.library import NormalDistribution, LogNormalDistribution, IntegerComparator\n",
    "from qiskit.utils import QuantumInstance\n",
    "from qiskit.algorithms import IterativeAmplitudeEstimation, EstimationProblem\n",
    "import matplotlib.pyplot as plt"
   ]
  },
  {
   "cell_type": "code",
   "execution_count": 2,
   "metadata": {},
   "outputs": [
    {
     "name": "stderr",
     "output_type": "stream",
     "text": [
      "C:\\Users\\joemo\\AppData\\Roaming\\Python\\Python37\\site-packages\\ipykernel_launcher.py:10: DeprecationWarning: `NormalDistribution` is deprecated as of version 0.17.0 and will be removed no earlier than 3 months after the release date. It moved to qiskit_finance.circuit.library.NormalDistribution.\n",
      "  # Remove the CWD from sys.path while we load stuff.\n"
     ]
    },
    {
     "data": {
      "text/plain": "[<matplotlib.lines.Line2D at 0x14e81d15508>]"
     },
     "execution_count": 2,
     "metadata": {},
     "output_type": "execute_result"
    },
    {
     "data": {
      "image/png": "[encoded data removed]",
      "text/plain": "<Figure size 432x288 with 1 Axes>"
     },
     "metadata": {
      "needs_background": "light"
     },
     "output_type": "display_data"
    }
   ],
   "source": [
    "correl = ft.get_correl(\"AAPL\", \"MSFT\")\r\n",
    "        \r\n",
    "bounds_std = 3.0\r\n",
    "num_qubits = [3, 3]        \r\n",
    "sigma = correl**2\r\n",
    "bounds = [(-bounds_std, bounds_std), (-bounds_std, bounds_std)] \r\n",
    "mu = [0, 0]\r\n",
    "\r\n",
    "# starting point is a multi-variate normal distribution\r\n",
    "normal = NormalDistribution(num_qubits, mu=mu, sigma=sigma, bounds=bounds)\r\n",
    "\r\n",
    "pl_set = []\r\n",
    "coeff_set = []\r\n",
    "for ticker in [\"MSFT\", \"AAPL\"]:\r\n",
    "    ((cdf_x, cdf_y), sigma) = ft.get_cdf_data(ticker)\r\n",
    "    (x, y) = ft.get_fit_data(ticker, norm_to_rel = False)\r\n",
    "    (pl, coeffs) = ft.fit_piecewise_linear(x, y)\r\n",
    "    # scale, to apply an arbitrary delta (we happen to use the same value here, but could be different)\r\n",
    "    coeffs = ft.scaled_coeffs(coeffs, 1.0)\r\n",
    "    pl_set.append(lambda z : ft.piecewise_linear(z, *coeffs))\r\n",
    "    coeff_set.append(coeffs)\r\n",
    "\r\n",
    "# calculate the max and min P&Ls\r\n",
    "p_max = max(pl_set[0](bounds_std), pl_set[1](bounds_std))\r\n",
    "p_min = min(pl_set[0](-bounds_std), pl_set[1](-bounds_std))\r\n",
    "\r\n",
    "# we discretise the transforms and create the circuits\r\n",
    "transforms = []\r\n",
    "i_to_js = []\r\n",
    "for i,ticker in enumerate([\"MSFT\", \"AAPL\"]):\r\n",
    "    (i_0, i_1, a0, a1, a2, b0, b1, b2, i_to_j, i_to_x, j_to_y) = ft.integer_piecewise_linear_coeffs(coeff_set[i], x_min = -bounds_std, x_max = bounds_std, y_min = p_min, y_max = p_max)\r\n",
    "    transforms.append(PiecewiseLinearTransform3(i_0, i_1, a0, a1, a2, b0, b1, b2))\r\n",
    "    i_to_js.append(np.vectorize(i_to_j))\r\n",
    "\r\n",
    "i = np.arange(0, 2**3)\r\n",
    "plt.plot(x, y)\r\n",
    "plt.plot(x, np.vectorize(pl)(x))\r\n",
    "plt.plot(np.vectorize(i_to_x)(i), np.vectorize(j_to_y)(np.vectorize(i_to_j)(i)))\r\n"
   ]
  },
  {
   "cell_type": "code",
   "execution_count": 7,
   "metadata": {},
   "outputs": [],
   "source": [
    "num_ancillas = transforms[0].num_ancilla_qubits\r\n",
    "\r\n",
    "qr_input = QuantumRegister(6, 'input') # 2 times 3 registers\r\n",
    "qr_objective = QuantumRegister(1, 'objective')\r\n",
    "qr_result = QuantumRegister(6, 'result')\r\n",
    "qr_ancilla = QuantumRegister(num_ancillas, 'ancilla')\r\n",
    "output = ClassicalRegister(6, 'output')\r\n",
    "\r\n",
    "state_preparation = QuantumCircuit(qr_input, qr_objective, qr_result, qr_ancilla, output) \r\n",
    "state_preparation.append(normal, qr_input)\r\n",
    "\r\n",
    "for i in range(2):\r\n",
    "    offset = i * 3\r\n",
    "    state_preparation.append(transforms[i], qr_input[offset:offset + 3] + qr_result[:] + qr_ancilla[:])\r\n",
    "\r\n",
    "# to calculate the cdf, we use an additional comparator\r\n",
    "x_eval = 14\r\n",
    "comparator = IntegerComparator(len(qr_result), x_eval + 1, geq=False)\r\n",
    "state_preparation.append(comparator, qr_result[:] + qr_objective[:] + qr_ancilla[0:comparator.num_ancillas])\r\n",
    "\r\n",
    "state_preparation.measure(qr_result, output)\r\n",
    "\r\n",
    "# now check\r\n",
    "check = False\r\n",
    "if check:\r\n",
    "    job = execute(state_preparation, backend=Aer.get_backend('statevector_simulator'))\r\n",
    "    var_prob = 0\r\n",
    "    for i, a in enumerate(job.result().get_statevector()):\r\n",
    "        b = ('{0:0%sb}' % (len(qr_input) + 1)).format(i)[-(len(qr_input) + 1):]\r\n",
    "        prob = np.abs(a)**2\r\n",
    "        if prob > 1e-6 and b[0] == '1':\r\n",
    "            var_prob += prob\r\n",
    "    print('Operator CDF(%s)' % x_eval + ' = %.4f' % var_prob)\r\n",
    "\r\n"
   ]
  },
  {
   "cell_type": "code",
   "execution_count": 11,
   "metadata": {},
   "outputs": [
    {
     "data": {
      "text/html": "<pre style=\"word-wrap: normal;white-space: pre;background: #fff0;line-height: 1.1;font-family: &quot;Courier New&quot;,Courier,monospace\">             ┌───────┐┌───────────────────┐                                    »\n    input_0: ┤0      ├┤0                  ├────────────────────────────────────»\n             │       ││                   │                                    »\n    input_1: ┤1      ├┤1                  ├────────────────────────────────────»\n             │       ││                   │                                    »\n    input_2: ┤2      ├┤2                  ├────────────────────────────────────»\n             │  P(X) ││                   │┌───────────────────┐               »\n    input_3: ┤3      ├┤                   ├┤0                  ├───────────────»\n             │       ││                   ││                   │               »\n    input_4: ┤4      ├┤                   ├┤1                  ├───────────────»\n             │       ││                   ││                   │               »\n    input_5: ┤5      ├┤                   ├┤2                  ├───────────────»\n             └───────┘│                   ││                   │┌───────┐      »\nobjective_0: ─────────┤                   ├┤                   ├┤6      ├──────»\n                      │                   ││                   ││       │┌─┐   »\n   result_0: ─────────┤3                  ├┤3                  ├┤0      ├┤M├───»\n                      │                   ││                   ││       │└╥┘┌─┐»\n   result_1: ─────────┤4                  ├┤4                  ├┤1      ├─╫─┤M├»\n                      │                   ││                   ││       │ ║ └╥┘»\n   result_2: ─────────┤5                  ├┤5                  ├┤2      ├─╫──╫─»\n                      │                   ││                   ││       │ ║  ║ »\n   result_3: ─────────┤6                  ├┤6                  ├┤3      ├─╫──╫─»\n                      │                   ││                   ││       │ ║  ║ »\n   result_4: ─────────┤7                  ├┤7                  ├┤4      ├─╫──╫─»\n                      │   pwise_lin_trans ││                   ││   cmp │ ║  ║ »\n   result_5: ─────────┤8                  ├┤8                  ├┤5      ├─╫──╫─»\n                      │                   ││                   ││       │ ║  ║ »\n  ancilla_0: ─────────┤9                  ├┤9  pwise_lin_trans ├┤7      ├─╫──╫─»\n                      │                   ││                   ││       │ ║  ║ »\n  ancilla_1: ─────────┤10                 ├┤10                 ├┤8      ├─╫──╫─»\n                      │                   ││                   ││       │ ║  ║ »\n  ancilla_2: ─────────┤11                 ├┤11                 ├┤9      ├─╫──╫─»\n                      │                   ││                   ││       │ ║  ║ »\n  ancilla_3: ─────────┤12                 ├┤12                 ├┤10     ├─╫──╫─»\n                      │                   ││                   ││       │ ║  ║ »\n  ancilla_4: ─────────┤13                 ├┤13                 ├┤11     ├─╫──╫─»\n                      │                   ││                   │└───────┘ ║  ║ »\n  ancilla_5: ─────────┤14                 ├┤14                 ├──────────╫──╫─»\n                      │                   ││                   │          ║  ║ »\n  ancilla_6: ─────────┤15                 ├┤15                 ├──────────╫──╫─»\n                      │                   ││                   │          ║  ║ »\n  ancilla_7: ─────────┤16                 ├┤16                 ├──────────╫──╫─»\n                      │                   ││                   │          ║  ║ »\n  ancilla_8: ─────────┤17                 ├┤17                 ├──────────╫──╫─»\n                      │                   ││                   │          ║  ║ »\n  ancilla_9: ─────────┤18                 ├┤18                 ├──────────╫──╫─»\n                      │                   ││                   │          ║  ║ »\n ancilla_10: ─────────┤19                 ├┤19                 ├──────────╫──╫─»\n                      └───────────────────┘└───────────────────┘          ║  ║ »\n   output: 6/═════════════════════════════════════════════════════════════╩══╩═»\n                                                                          0  1 »\n«                         \n«    input_0: ────────────\n«                         \n«    input_1: ────────────\n«                         \n«    input_2: ────────────\n«                         \n«    input_3: ────────────\n«                         \n«    input_4: ────────────\n«                         \n«    input_5: ────────────\n«                         \n«objective_0: ────────────\n«                         \n«   result_0: ────────────\n«                         \n«   result_1: ────────────\n«             ┌─┐         \n«   result_2: ┤M├─────────\n«             └╥┘┌─┐      \n«   result_3: ─╫─┤M├──────\n«              ║ └╥┘┌─┐   \n«   result_4: ─╫──╫─┤M├───\n«              ║  ║ └╥┘┌─┐\n«   result_5: ─╫──╫──╫─┤M├\n«              ║  ║  ║ └╥┘\n«  ancilla_0: ─╫──╫──╫──╫─\n«              ║  ║  ║  ║ \n«  ancilla_1: ─╫──╫──╫──╫─\n«              ║  ║  ║  ║ \n«  ancilla_2: ─╫──╫──╫──╫─\n«              ║  ║  ║  ║ \n«  ancilla_3: ─╫──╫──╫──╫─\n«              ║  ║  ║  ║ \n«  ancilla_4: ─╫──╫──╫──╫─\n«              ║  ║  ║  ║ \n«  ancilla_5: ─╫──╫──╫──╫─\n«              ║  ║  ║  ║ \n«  ancilla_6: ─╫──╫──╫──╫─\n«              ║  ║  ║  ║ \n«  ancilla_7: ─╫──╫──╫──╫─\n«              ║  ║  ║  ║ \n«  ancilla_8: ─╫──╫──╫──╫─\n«              ║  ║  ║  ║ \n«  ancilla_9: ─╫──╫──╫──╫─\n«              ║  ║  ║  ║ \n« ancilla_10: ─╫──╫──╫──╫─\n«              ║  ║  ║  ║ \n«   output: 6/═╩══╩══╩══╩═\n«              2  3  4  5 </pre>",
      "text/plain": "             ┌───────┐┌───────────────────┐                                    »\n    input_0: ┤0      ├┤0                  ├────────────────────────────────────»\n             │       ││                   │                                    »\n    input_1: ┤1      ├┤1                  ├────────────────────────────────────»\n             │       ││                   │                                    »\n    input_2: ┤2      ├┤2                  ├────────────────────────────────────»\n             │  P(X) ││                   │┌───────────────────┐               »\n    input_3: ┤3      ├┤                   ├┤0                  ├───────────────»\n             │       ││                   ││                   │               »\n    input_4: ┤4      ├┤                   ├┤1                  ├───────────────»\n             │       ││                   ││                   │               »\n    input_5: ┤5      ├┤                   ├┤2                  ├───────────────»\n             └───────┘│                   ││                   │┌───────┐      »\nobjective_0: ─────────┤                   ├┤                   ├┤6      ├──────»\n                      │                   ││                   ││       │┌─┐   »\n   result_0: ─────────┤3                  ├┤3                  ├┤0      ├┤M├───»\n                      │                   ││                   ││       │└╥┘┌─┐»\n   result_1: ─────────┤4                  ├┤4                  ├┤1      ├─╫─┤M├»\n                      │                   ││                   ││       │ ║ └╥┘»\n   result_2: ─────────┤5                  ├┤5                  ├┤2      ├─╫──╫─»\n                      │                   ││                   ││       │ ║  ║ »\n   result_3: ─────────┤6                  ├┤6                  ├┤3      ├─╫──╫─»\n                      │                   ││                   ││       │ ║  ║ »\n   result_4: ─────────┤7                  ├┤7                  ├┤4      ├─╫──╫─»\n                      │   pwise_lin_trans ││                   ││   cmp │ ║  ║ »\n   result_5: ─────────┤8                  ├┤8                  ├┤5      ├─╫──╫─»\n                      │                   ││                   ││       │ ║  ║ »\n  ancilla_0: ─────────┤9                  ├┤9  pwise_lin_trans ├┤7      ├─╫──╫─»\n                      │                   ││                   ││       │ ║  ║ »\n  ancilla_1: ─────────┤10                 ├┤10                 ├┤8      ├─╫──╫─»\n                      │                   ││                   ││       │ ║  ║ »\n  ancilla_2: ─────────┤11                 ├┤11                 ├┤9      ├─╫──╫─»\n                      │                   ││                   ││       │ ║  ║ »\n  ancilla_3: ─────────┤12                 ├┤12                 ├┤10     ├─╫──╫─»\n                      │                   ││                   ││       │ ║  ║ »\n  ancilla_4: ─────────┤13                 ├┤13                 ├┤11     ├─╫──╫─»\n                      │                   ││                   │└───────┘ ║  ║ »\n  ancilla_5: ─────────┤14                 ├┤14                 ├──────────╫──╫─»\n                      │                   ││                   │          ║  ║ »\n  ancilla_6: ─────────┤15                 ├┤15                 ├──────────╫──╫─»\n                      │                   ││                   │          ║  ║ »\n  ancilla_7: ─────────┤16                 ├┤16                 ├──────────╫──╫─»\n                      │                   ││                   │          ║  ║ »\n  ancilla_8: ─────────┤17                 ├┤17                 ├──────────╫──╫─»\n                      │                   ││                   │          ║  ║ »\n  ancilla_9: ─────────┤18                 ├┤18                 ├──────────╫──╫─»\n                      │                   ││                   │          ║  ║ »\n ancilla_10: ─────────┤19                 ├┤19                 ├──────────╫──╫─»\n                      └───────────────────┘└───────────────────┘          ║  ║ »\n   output: 6/═════════════════════════════════════════════════════════════╩══╩═»\n                                                                          0  1 »\n«                         \n«    input_0: ────────────\n«                         \n«    input_1: ────────────\n«                         \n«    input_2: ────────────\n«                         \n«    input_3: ────────────\n«                         \n«    input_4: ────────────\n«                         \n«    input_5: ────────────\n«                         \n«objective_0: ────────────\n«                         \n«   result_0: ────────────\n«                         \n«   result_1: ────────────\n«             ┌─┐         \n«   result_2: ┤M├─────────\n«             └╥┘┌─┐      \n«   result_3: ─╫─┤M├──────\n«              ║ └╥┘┌─┐   \n«   result_4: ─╫──╫─┤M├───\n«              ║  ║ └╥┘┌─┐\n«   result_5: ─╫──╫──╫─┤M├\n«              ║  ║  ║ └╥┘\n«  ancilla_0: ─╫──╫──╫──╫─\n«              ║  ║  ║  ║ \n«  ancilla_1: ─╫──╫──╫──╫─\n«              ║  ║  ║  ║ \n«  ancilla_2: ─╫──╫──╫──╫─\n«              ║  ║  ║  ║ \n«  ancilla_3: ─╫──╫──╫──╫─\n«              ║  ║  ║  ║ \n«  ancilla_4: ─╫──╫──╫──╫─\n«              ║  ║  ║  ║ \n«  ancilla_5: ─╫──╫──╫──╫─\n«              ║  ║  ║  ║ \n«  ancilla_6: ─╫──╫──╫──╫─\n«              ║  ║  ║  ║ \n«  ancilla_7: ─╫──╫──╫──╫─\n«              ║  ║  ║  ║ \n«  ancilla_8: ─╫──╫──╫──╫─\n«              ║  ║  ║  ║ \n«  ancilla_9: ─╫──╫──╫──╫─\n«              ║  ║  ║  ║ \n« ancilla_10: ─╫──╫──╫──╫─\n«              ║  ║  ║  ║ \n«   output: 6/═╩══╩══╩══╩═\n«              2  3  4  5 "
     },
     "execution_count": 11,
     "metadata": {},
     "output_type": "execute_result"
    }
   ],
   "source": [
    "state_preparation.draw()"
   ]
  },
  {
   "cell_type": "code",
   "execution_count": 7,
   "metadata": {},
   "outputs": [],
   "source": [
    "#state_preparation.draw()\n",
    "fig = state_preparation.draw(output='mpl')\n",
    "fig.savefig('../../../outputs/trans_circuit_detail.pdf', format='pdf', facecolor=fig.get_facecolor(), transparent=True, bbox_inches='tight')"
   ]
  },
  {
   "cell_type": "code",
   "execution_count": 8,
   "metadata": {},
   "outputs": [
    {
     "data": {
      "text/plain": "<BarContainer object of 31 artists>"
     },
     "execution_count": 8,
     "metadata": {},
     "output_type": "execute_result"
    },
    {
     "data": {
      "image/png": "[encoded data removed]",
      "text/plain": "<Figure size 432x288 with 1 Axes>"
     },
     "metadata": {
      "needs_background": "light"
     },
     "output_type": "display_data"
    }
   ],
   "source": [
    "counts = execute(state_preparation, Aer.get_backend('qasm_simulator'), shots = 500000).result().get_counts()\n",
    "from qiskit.visualization import plot_histogram\n",
    "plot_histogram(counts, title = \"transform of normal\")\n",
    "vals = [int(i, 2) for i,j in counts.items()]\n",
    "cnts = [j for i,j in counts.items()]\n",
    "plt.bar(vals, cnts)"
   ]
  },
  {
   "cell_type": "code",
   "execution_count": 22,
   "metadata": {},
   "outputs": [
    {
     "name": "stdout",
     "output_type": "stream",
     "text": [
      "23:05:23\n",
      "Estimated value:\t0.0161\n",
      "Confidence interval: \t[0.0143, 0.0180]\n",
      "23:17:36\n"
     ]
    }
   ],
   "source": [
    "print(time.strftime(\"%H:%M:%S\", time.localtime()))\n",
    "\n",
    "# now do AE\n",
    "problem = EstimationProblem(state_preparation=state_preparation,\n",
    "                    objective_qubits=[len(qr_input)])\n",
    "\n",
    "# target precision and confidence level\n",
    "epsilon = 0.01\n",
    "alpha = 0.05\n",
    "qi = QuantumInstance(Aer.get_backend('aer_simulator'), shots=100)\n",
    "ae_cdf = IterativeAmplitudeEstimation(epsilon, alpha=alpha, quantum_instance=qi)\n",
    "result_cdf = ae_cdf.estimate(problem)\n",
    "\n",
    "\n",
    "conf_int = np.array(result_cdf.confidence_interval)\n",
    "print('Estimated value:\\t%.4f' % result_cdf.estimation)\n",
    "print('Confidence interval: \\t[%.4f, %.4f]' % tuple(conf_int))\n",
    "\n",
    "#state_preparation.draw()\n",
    "\n",
    "print(time.strftime(\"%H:%M:%S\", time.localtime()))"
   ]
  },
  {
   "cell_type": "code",
   "execution_count": 9,
   "metadata": {},
   "outputs": [],
   "source": [
    "def get_sims(normal_distribution):\n",
    "    import numpy as np\n",
    "    values = normal_distribution._values\n",
    "    probs = normal_distribution._probabilities\n",
    "    # we generate a bunch of realisation of values, based \n",
    "    upper_bounds = [0.0]\n",
    "    stop = 0.0\n",
    "    for val, prob in zip(values, probs):\n",
    "        stop += prob\n",
    "        upper_bounds.append(stop)\n",
    "    \n",
    "    np.random.seed = 101\n",
    "    r = np.random.uniform(low=0.0, high=1.0, size=1000000)\n",
    "    indices = np.searchsorted(upper_bounds, r, side='left', sorter=None) - 1\n",
    "\n",
    "    g1, g2 = np.meshgrid(range(2**3), range(2**3), indexing=\"ij\",)\n",
    "    i1 = g1.flatten()[indices]\n",
    "    i2 = g2.flatten()[indices]\n",
    "    #x = list(zip(*(grid.flatten() for grid in meshgrid)))\n",
    "    return i1, i2\n",
    "\n",
    "i1, i2 = get_sims(normal)\n",
    "j1 = i_to_js[0](i1)\n",
    "j2 = i_to_js[1](i2)\n",
    "j_tot = j1 + j2"
   ]
  },
  {
   "cell_type": "code",
   "execution_count": 10,
   "metadata": {},
   "outputs": [
    {
     "data": {
      "text/plain": "<BarContainer object of 34 artists>"
     },
     "execution_count": 10,
     "metadata": {},
     "output_type": "execute_result"
    },
    {
     "data": {
      "image/png": "[encoded data removed]",
      "text/plain": "<Figure size 432x288 with 1 Axes>"
     },
     "metadata": {
      "needs_background": "light"
     },
     "output_type": "display_data"
    }
   ],
   "source": [
    "counts = {}\n",
    "for item in j_tot:\n",
    "    if item in counts:\n",
    "        counts[item] += 1\n",
    "    else:\n",
    "        counts[item] = 1\n",
    "\n",
    "vals = [i for i,j in counts.items()]\n",
    "cnts = [j for i,j in counts.items()]\n",
    "plt.bar(vals, cnts)"
   ]
  },
  {
   "cell_type": "code",
   "execution_count": 20,
   "metadata": {},
   "outputs": [
    {
     "name": "stdout",
     "output_type": "stream",
     "text": [
      "0.015673\n"
     ]
    }
   ],
   "source": [
    "sum = 0\r\n",
    "for v,c in zip(vals, cnts):\r\n",
    "    if v <= 14:\r\n",
    "        sum += c\r\n",
    "print(float(sum) / 1000000)"
   ]
  },
  {
   "cell_type": "code",
   "execution_count": null,
   "metadata": {},
   "outputs": [],
   "source": []
  }
 ],
 "metadata": {
  "kernelspec": {
   "display_name": "Python 3.7.9 64-bit",
   "name": "python379jvsc74a57bd0b1242c21bec528c7315eb52ee88c05dce38c97c1e971b2abd9e56f88cd13fcd5"
  },
  "language_info": {
   "codemirror_mode": {
    "name": "ipython",
    "version": 3
   },
   "file_extension": ".py",
   "mimetype": "text/x-python",
   "name": "python",
   "nbconvert_exporter": "python",
   "pygments_lexer": "ipython3",
   "version": "3.7.9"
  },
  "metadata": {
   "interpreter": {
    "hash": "b1242c21bec528c7315eb52ee88c05dce38c97c1e971b2abd9e56f88cd13fcd5"
   }
  },
  "orig_nbformat": 2
 },
 "nbformat": 4,
 "nbformat_minor": 2
}